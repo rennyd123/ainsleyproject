{
  "cells": [
    {
      "cell_type": "markdown",
      "metadata": {},
      "source": [
        "## Header 1\n",
        "\n",
        "### Header 2\n",
        "fkdskjfdakjlg\n",
        "\n",
        "#### Header 3"
      ]
    }
  ],
  "metadata": {
    "kernelspec": {
      "name": "python3",
      "language": "python",
      "display_name": "Python 3 (ipykernel)"
    }
  },
  "nbformat": 4,
  "nbformat_minor": 4
}