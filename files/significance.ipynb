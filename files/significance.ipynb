{
  "cells": [
    {
      "cell_type": "markdown",
      "metadata": {},
      "source": [
        "---\n",
        "title: \"Significance to African Conflict and Security\"\n",
        "---\n",
        "\n",
        "### General Overview\n",
        "\n",
        "The values associated with the Congolese Soldiers Memorial–duty, sacrifice, and pride–are emblematic of how African citizens should view their respective armed forces. Militaries around the world primarily exist to protect countries from external threats and defend citizens from violent actors. However, every iteration of the Congolese armed forces (FARDC) has failed to live up to such expectations. Citizens in the eastern Democratic Republic of the Congo have known constant violence and tumult since the First Congo War began in 1996. The FARDC currently are fighting–and failing–to beat Rwandan-backed rebel groups, Islamic State-linked terrorist organizations, and regional ethnic militias. The military’s weakness is being alleviated by local defense groups known as Wazalendo (‘Patriots’ in Swahili) although the pro-Congolese government coalition has been steadily losing ground. \n",
        "\n",
        "<p align=\"center\">\n",
        "    <img src=\"images/significance__header1__image1.jpg\" height=\"331\" width=\"498\" alt=\"Y\" style=\"margin-bottom:10px;\" />\n",
        "    <br />\n",
        "    <small>Description: Wazalendo fighters in North Kivu province in eastern DRC.</small>\n",
        "    <br />\n",
        "    <small>Source: <a href=\"https://thegreatlakeseye.com/post?s=DRC%3A--Who--are--the--%E2%80%98Wazalendo%E2%80%99--militia--responsible--for--ceasefire--violation%3F--_1192\" target=\"_blank\" rel=\"noopener noreferrer\">Great Lakes Eye</a></small>\n",
        "</p>\n",
        "\n",
        "### 21st Century Solutions\n",
        "\n",
        "Sources: [MONUSCO](https://peacekeeping.un.org/en/mission/monusco); [UN News](https://news.un.org/en/story/2023/10/1142247); [Global Press Journal](https://globalpressjournal.com/africa/democratic-republic-of-congo/25-years-224-abuse-allegations-no-peace-drc-kicks-un-peacekeeping-mission/); [ISS Africa](https://issafrica.org/iss-today/the-revived-luanda-process-inching-towards-peace-in-east-drc); [CSIS](https://www.csis.org/analysis/kenya-and-democratic-republic-congo); [Vatican News](https://www.vaticannews.va/en/church/news/2025-01/churches-in-drc-launch-roadmap-for-peace-in-great-lakes-region.html); [Focus On Africa](https://www.focusonafrica.info/en/rdcongo-le-chiese-cattolica-e-protestante-propongono-un-patto-per-la-pace-coinvolgendo-lafc-m23/); [The Pillar](https://www.pillarcatholic.com/p/drc-bishops-face-backlash-over-peace)\n",
        "\n",
        "\n",
        "International and regional actors have launched multiple peace processes, peacekeeping missions, and humanitarian assistance efforts to address and mitigate the violence. The United Nations has had a peacekeeping mission in the DRC since 1999, which was initially intended to monitor the peace process during the Second Congo War. The peacekeeping mission was rebranded in 2010 as the United Nations Organization Stabilization Mission in the Democratic Republic of the Congo (MONUSCO). MONUSCO and the Congolese armed forces succeeded in destroying or significantly weakening rebel groups in the past, such as with the Rwandan-backed M23 in 2012, but have been largely sidelined during the current iteration of the conflict. MONUSCO’s abilities have also been weakened by lack of trust among the citizenry given peacekeepers past involvement in sexual abuse and financial exploitation. \n",
        "\n",
        "The DRC leadership has also historically looked for African solutions such as regional peacekeeping missions and peace processes. The East African Community (EAC) and South African Community) have each sent regional peacekeeping forces to eastern DRC, although these similarly faced major challenges. The EAC Regional Force was attacked by DRC President Tshisekedi as being biased against the DRC and actively supporting Rwandan–backed militias in the region. This led to the force withdrawing in 2023. The SADC mission (SAMIDRC) was deployed to fill the void in December 2023, but troops are currently being withdrawn after peacekeeping casualties led to domestic blowback among the troop contributing countries. The South African public, in particular, demanded the return of all troops. \n",
        "\n",
        "The EAC and SADC have each launched respective and newly merged peace processes known as the Nairobi and Luanda processes, respectively. Both processes have been limited by the unwillingness of governments to credibly commit to the processes or continuous violations of ceasefires. Currently, a peace process led by members of Catholic and Protestant Churches is gaining steam in the DRC as the leaders have made efforts to consult all stakeholders in the conflict including regional leaders, militia leaders, the diaspora, and international organizations. Such efforts are indicative of bottom-up efforts that have initiated change in African contexts when governments are unable or unwilling themselves. \n",
        "\n",
        "The monument only makes reference to the sacrifices of the Congolese armed forces while leaving out contributions from regional and international militaries and soldiers. In many ways, the continued weaknesses of the Congolese armed forces have rendered it reliant on other actors to ensure the DRC’s security and continued sovereignty. The monument is ambitious in its symbolism, but fails to grasp the reality of FARDC’s role in the country’s past and present. \n",
        "\n",
        "### Financial Gains, Resource Exploitation, and Conflict\n",
        "\n",
        "Sources: [Reuters](https://www.reuters.com/world/africa/congo-doubles-salaries-beleaguered-army-amid-rebel-advance-2025-03-28/); [Barron's](https://www.barrons.com/news/east-dr-congo-mines-mint-rwanda-backed-m23-s-fortune-1a70d1ae); [Mongabay](https://news.mongabay.com/2025/02/how-illicit-mining-fuels-violence-in-eastern-drc-interview-with-jean-pierre-okenda/); [VOA](https://www.voanews.com/a/congo-abuse-of-gold-mineral-riches/3669927.html); [BBC](http://news.bbc.co.uk/2/hi/africa/6681457.stm); [HRW](https://www.hrw.org/news/2008/05/01/un-tackle-wrongdoing-peacekeepers)\n",
        "\n",
        "Palik et al. (2022) articulated that civil wars in which the rebels are able to illicitly earn money from drugs or minerals tend to last longer. Reporting by the UN and other human rights groups has credibly connected rebel groups in eastern DRC to mineral and resource exploitation since the First Congo War. Groups like M23 currently make profits of around $800 thousand per month from controlling mining sites. Palik et al also argue that the chances of conflict being dragged out further extends when the armed forces directly benefit. FARDC receives higher pay and budgetary allotments during conflict and regional governments benefit from higher political importance and aid donations. The hourly wages of Congolese soldiers were just doubled in March, 2025 to increase recruitment and ensure retainment of soldiers. \n",
        "\n",
        "International media have also found evidence of UN peacekeepers involvement in guns-for-gold deals, which involved FARDC soldiers and Kenyan arms brokers. The DRC’s porous borders allow for transnational crime networks to easily move goods into and out of the country. In addition to guns, Rwanda and Uganda have historically illegally extracted billions of dollars of minerals from the country’s East as the unstable security conditions have lessened the monitoring and oversight mechanisms. Financial exploitation fuels the conflict and will likely lead to its continuance. \n",
        "\n",
        "The monument’s pro-Congolese armed forces narrative addresses none of these concerns. It celebrates soldier’s commitments and self-sacrifice, which seem less sincere given the financial benefits often resulting from service. Its singular portrayal of a narrative of loyal service undermines the reality of the armed forces exploiting minerals that would have benefited the Congolese people. \n",
        "\n"
      ]
    },
    {
      "cell_type": "markdown",
      "metadata": {},
      "source": []
    }
  ],
  "metadata": {
    "kernelspec": {
      "display_name": "Python 3 (ipykernel)",
      "language": "python",
      "name": "python3"
    }
  },
  "nbformat": 4,
  "nbformat_minor": 4
}
