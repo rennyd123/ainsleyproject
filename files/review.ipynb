{
 "cells": [
  {
   "cell_type": "markdown",
   "metadata": {},
   "source": [
    "### Reviews\n",
    "\n",
    "Reviews posted on sites such as Google Maps and Tripadvisor agree that the monument itself is not spectacular, but it honors and commemorates a group inseparable from Congolese history. This memorial’s value does not stem from its design, but from the history that its design captures and recognizes.\n",
    "\n",
    "![](images/review1.png)\n",
    "![](images/review2.png)\n",
    "\n",
    "### Our Thoughts\n",
    "\n",
    "We found this memorial incredibly interesting. Although the DRC has been known by many names during its history, there is a clear sense of identity and history across these various names and governments dating back to the Congo Free State in the 1800s. Although not every soldier in Congolese history is captured, there is a clear lineage outlined by the three periods depicted and the conflicts and periods of history they represent.\n",
    "\n",
    "One specific factor we were drawn to is the lack of recognition of atrocities committed by the various Congolese armed forces. While conducting research, every group was accused of human rights abuses, yet this memorial only focuses on the glory and bravery demonstrated by Congolese soldiers throughout history. However, this likely connects back to the memorial’s intent to pay tribute to the soldiers who defended their country, especially today. Considering the intensity of the conflict the DRC has recently endured, acknowledging wrongdoings would detract from the patriotism and commitment to country this monument seeks to inspire. Its focus is not on a specific conflict and the impact it had, but rather on the history of Congolese soldiers’ defense of their country.\n",
    "\n",
    "Although the memorial itself is not remarkable in its design, the attention to detail in the design of each soldier, connections to their history, and use of these details to evoke a sense of pride and honor for Congolese soldiers and Congolese history make this memorial remarkable. "
   ]
  }
 ],
 "metadata": {
  "language_info": {
   "name": "python"
  }
 },
 "nbformat": 4,
 "nbformat_minor": 2
}
