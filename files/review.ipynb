{
 "cells": [
  {
   "cell_type": "markdown",
   "metadata": {},
   "source": [
    "### Reviews\n",
    "\n",
    "Reviews posted on sites such as Google Maps and Tripadvisor agree that the monument itself is not spectacular, but it honors and commemorates a group inseparable from Congolese history. This memorial’s value does not stem from its design, but from the history that its design captures and recognizes.\n",
    "\n",
    "<p align=\"center\">\n",
    "    <img src=\"images/review1.png\" height=\"479\" width=\"645\" alt=\"Y\" style=\"margin-bottom:10px;\" />\n",
    "    <br />\n",
    "    <small>Source: <a href=\"https://www.google.com/maps/place/M%C3%A9morial+du+Soldat+Congolais/@-4.3013676,15.306153,1501m/data=!3m1!1e3!4m8!3m7!1s0x1a6a33bc263f0c9b:0xc53926d692dc19a0!8m2!3d-4.301373!4d15.3087279!9m1!1b1!16s%2Fg%2F11h5v8sq_n?entry=ttu&g_ep=EgoyMDI1MDQyMy4wIKXMDSoJLDEwMjExNDU1SAFQAw%3D%3D\n",
    "target=\"_blank\" rel=\"noopener noreferrer\">Google Maps</a></small>\n",
    "</p>\n",
    "\n",
    "<p align=\"center\">\n",
    "    <img src=\"images/review2.png\" height=\"323\" width=\"571\" alt=\"Y\" style=\"margin-bottom:10px;\" />\n",
    "    <br />\n",
    "    <small>Source: <a href=\"https://www.tripadvisor.com/Attraction_Review-g294187-d17654721-Reviews-Memorial_du_Soldat_Congolais-Kinshasa.html\n",
    "target=\"_blank\" rel=\"noopener noreferrer\">Tripadvisor</a></small>\n",
    "</p>\n",
    "\n",
    "### Our Thoughts\n",
    "\n",
    "We found this memorial incredibly interesting. Although the DRC has been known by many names during its history, there is a clear sense of identity and history across these various names and governments dating back to the Congo Free State in the 1800s. Although not every soldier in Congolese history is captured, there is a clear lineage outlined by the three periods depicted and the conflicts and periods of history they represent.\n",
    "\n",
    "One specific factor we were drawn to is the lack of recognition of atrocities committed by the various Congolese armed forces. While conducting research, every group was accused of human rights abuses, yet this memorial only focuses on the glory and bravery demonstrated by Congolese soldiers throughout history. However, this likely connects back to the memorial’s intent to pay tribute to the soldiers who defended their country, especially today. Considering the intensity of the conflict the DRC has recently endured, acknowledging wrongdoings would detract from the patriotism and commitment to country this monument seeks to inspire. Its focus is not on a specific conflict and the impact it had, but rather on the history of Congolese soldiers’ defense of their country.\n",
    "\n",
    "Although the memorial itself is not remarkable in its design, the attention to detail in the design of each soldier, connections to their history, and use of these details to evoke a sense of pride and honor for Congolese soldiers and Congolese history make this memorial remarkable. "
   ]
  }
 ],
 "metadata": {
  "language_info": {
   "name": "python"
  }
 },
 "nbformat": 4,
 "nbformat_minor": 2
}
