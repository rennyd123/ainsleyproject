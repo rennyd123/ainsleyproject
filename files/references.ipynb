{
 "cells": [
  {
   "cell_type": "markdown",
   "metadata": {},
   "source": [
    "Burgis, T. (2016). The looting machine: Warlords, tycoons, smugglers and the systematic theft of Africa’s wealth. William Collins.\n",
    "Council on Foreign Relations. “Conflict in the Democratic Republic of Congo,” March 20, 2025. https://www.cfr.org/global-conflict-tracker/conflict/violence-democratic-republic-congo.\n",
    "\n",
    "Duke, Lynne. “ZAIRE’S ARMY A FIGHTING FORCE IN NAME ONLY.” The Washington Post, April 24, 1997. https://www.washingtonpost.com/archive/politics/1997/04/25/zaires-army-a-fighting-force-in-name-only/f1093487-4fb3-44d0-8575-97346c366552/.\n",
    "\n",
    "Firearms Trafficking in the Sahel. (2022). Unodc.org. https://www.unodc.org/documents/data-and-analysis/tocta_sahel/TOCTA_Sahel_firearms_2023.pdf.\n",
    "\n",
    "Gann, Lewis H., and Peter Duignan. “THE FORCE PUBLIQUE.” In The Rulers of Belgian Africa, 1884-1914, 52–84. Princeton University Press, 1979. http://www.jstor.org/stable/j.ctt13x17wv.9.\n",
    "\n",
    "Hochschild, Adam, and Barbara Kingsolver. King Leopold’s Ghost: A Story of Greed, Terror, and Heroism in Colonial Africa. Boston: Mariner Books, 2020.\n",
    "\n",
    "Howe, Herbert M. “Private Security Forces and African Stability: The Case of Executive Outcomes.” The Journal of Modern African Studies 36, no. 2 (1998): 307–31. http://www.jstor.org/stable/161407.\n",
    "\n",
    "Larie. “Le Rond-Point Forescom Portera Le Mémorial Du Soldat Congolais de 1885 à Nos Jours.” RDC-EVEIL, June 1, 2017. https://rdc-eveil.info/le-rond-point-forescom-portera-le-memorial-du-soldat-congolais-de-1885-a-nos-jours/.\n",
    "\n",
    "Meditz, Sandra W, Tim Merrill, and Library Of Congress. Federal Research Division. Zaire: A Country Study. Washington, D.C.: Federal Research Division, Library of Congress: For sale by the Supt. of Docs., U.S. G.P.O, 1994. Pdf. https://www.loc.gov/item/94025092/.\n",
    "\n",
    "Palik, J., Obermeier, A. M., & Rustad, S. A. (2022). Conflict trends in Africa, 1989–2021. Prio.org. https://www.prio.org/publications/13215\n",
    "\n",
    "Timothy J. Stapleton. 2017. Encyclopedia of African Colonial Conflicts : [2 Volumes]. Santa Barbara, Calif: ABC-CLIO. \n",
    "\n",
    "Stearns, J. (2012). Dancing in the glory of monsters: The collapse of the Congo and the great war of Africa. PublicAffairs.\n",
    "\n",
    "U.S. Department of State Office of the Historian. “The Congo, Decolonization, and the Cold War, 1960–1965.” Accessed April 28, 2025. https://history.state.gov/milestones/1961-1968/congo-decolonization.\n",
    "\n",
    "Weinstein, J. M. (2012). Cambridge studies in comparative politics: Inside rebellion: The politics of insurgent violence: The politics of insurgent violence. Cambridge University Press. https://doi.org/10.1017/cbo9780511808654"
   ]
  }
 ],
 "metadata": {
  "language_info": {
   "name": "python"
  }
 },
 "nbformat": 4,
 "nbformat_minor": 2
}
