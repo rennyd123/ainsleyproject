{
 "cells": [
  {
   "cell_type": "markdown",
   "metadata": {},
   "source": [
    "Gann, Lewis H., and Peter Duignan. “THE FORCE PUBLIQUE.” In The Rulers of Belgian Africa, 1884-1914, 52–84. Princeton University Press, 1979. http://www.jstor.org/stable/j.ctt13x17wv.9.\n",
    "\n",
    "Howe, Herbert M. “Private Security Forces and African Stability: The Case of Executive Outcomes.” The Journal of Modern African Studies 36, no. 2 (1998): 307–31. http://www.jstor.org/stable/161407.\n",
    "\n",
    "Meditz, Sandra W, Tim Merrill, and Library Of Congress. Federal Research Division. Zaire: A Country Study. Washington, D.C.: Federal Research Division, Library of Congress: For sale by the Supt. of Docs., U.S. G.P.O, 1994. Pdf. https://www.loc.gov/item/94025092/.\n",
    "\n",
    "Timothy J. Stapleton. 2017. Encyclopedia of African Colonial Conflicts : [2 Volumes]. Santa Barbara, Calif: ABC-CLIO. https://search-ebscohost-com.proxy.library.georgetown.edu/login.aspx?direct=true&AuthType=ip,uid&db=nlebk&AN=1385178&site=ehost-live&scope=site."
   ]
  }
 ],
 "metadata": {
  "language_info": {
   "name": "python"
  }
 },
 "nbformat": 4,
 "nbformat_minor": 2
}
