{
  "cells": [
    {
      "cell_type": "markdown",
      "metadata": {},
      "source": [
        "### Design Overview\n",
        "\n",
        "The Mémorial du Soldat Congolais depicts three soldiers from various periods in Congolese history dating back to the 1880s–the Force Publique, the Forces Armées Zaïroises (ZAF), and the Forces Armées de la République Démocratique du Congo (FARDC). This was intended to offer a tribute to soldiers in a historical line dating back to the time of the Belgian Congo. The soldiers are positioned on pedestals of various heights, with the earliest soldier depicted at the lowest height and the others ascending in chronological order."
      ]
    },
    {
      "cell_type": "markdown",
      "metadata": {},
      "source": [
        "### Force Publique\n",
        "\n",
        "<p align=\"right\">\n",
        "    <img src=\"images/design_image_1_FP.jpeg\" height=\"181\" width=\"279\" alt=\"Y\" style=\"float:left; margin-right:15px;\" />\n",
        "    <small>Source: <a href=\"https://www.google.com/imgres?q=memorial%20du%20soldat%20congolais&imgurl=https%3A%2F%2Fpbs.twimg.com%2Fmedia%2FFBhiVKsWEAQi0wn.jpg&imgrefurl=https%3A%2F%2Fx.com%2FLordHads1%2Fstatus%2F1448015412864618502&docid=tWO5oeX4F4L_uM&tbnid=4K7dfgNRKcIWQM&vet=12ahUKEwiwzdXp1vqMAxXXGFkFHagVJUkQM3oECHgQAA..i&w=1080&h=700&hcb=2&ved=2ahUKEwiwzdXp1vqMAxXXGFkFHagVJUkQM3oECHgQAA\" target=\"_blank\" rel=\"noopener noreferrer\">X</a></small>\n",
        "</p>\n",
        "\n",
        "\n",
        "The Force Publique soldier, seen on the lowest of the three pedestals and dated 1885-1960, is depicted wearing khaki shorts, as required by the uniform of the time, with calf straps and a cartridge belt. He holds the rifle used during this period, the Mauser, and wears a fez on his head. Notably, the soldier stands in the “Present Arms” position, depicting the military discipline of Force Publique soldiers during the period of Belgian colonization. \n",
        "\n",
        "King Leopold II established the Force Publique as a private army composed primarily of European officers. However, recruitment was shifted to local people in 1891 to economize the force. Soldiers and officers were expected to carry out nonmilitary duties until 1904, with soldiers building roads and government stations and officers serving as foremen, architects, engineers, hydrographers, census takers, and constables. However, their primary duty was to fight. \n",
        "\n",
        "When the Congo Free State transitioned to Belgian colonial rule, the Force Publique remained its military and police force. During the First World War, the Force Publique fought German forces in German East Africa, or modern Rwandan territory. Later, during the Second World War, the Force Publique supported Belgian forces, and in the Belgian Congo’s final days, the Force Publique bloodily suppressed mass demonstrations in support of Congolese self-determination, although many Congolese soldiers mutinied against their Belgian commanders in the days following Congo’s achievement of independence. Following these mutinies, the Force Publique was renamed the Armée Nationale Congolaise and its leadership was africanized.\n",
        "\n"
      ]
    },
    {
      "cell_type": "markdown",
      "metadata": {},
      "source": [
        "### Forces Armées Zaïroises\n",
        "\n",
        "<p align=\"left\">\n",
        "    <img src=\"images/design_image_2_FAZ.jpeg\" height=\"250\" width=\"250\" alt=\"Y\" style=\"float:right; margin-left:15px;\" />\n",
        "    <small>Source: <a href=\"https://congoprofond.net/kinshasa-accueille-du-25-au-27-septembre-le-2eme-forum-des-operateurs-touristiques/\" target=\"_blank\" rel=\"noopener noreferrer\">Congo Profound</a></small>\n",
        "</p>\n",
        "\n",
        "The next soldier depicted is a member of the Forces Armées Zaïroises (FAZ), or the Zairian Armed Forces, shown in uniform with a beret and boots. He is shown marching, highlighting his pride and commitment to both the FAZ and his country. In his explanation of the FAZ soldier’s design, memorial designer Christophe Meko explained that the soldier appears “under the sign of the prosperous period of the Republic with great honor,” as “grandiosity has its place there with the images that remain to us of the FAZ soldiers on parade.” The soldier’s pride and confidence in his march exemplifies this honor and grandeur.\n",
        "\n",
        "Despite the pride and honor depicted by this soldier, the FAZ was a notably weak military force. Zaire’s president, Mobutu Sese Seko, kept the forces intentionally weak as a means of “coup-proofing” his government. Looting became increasingly common, as soldiers were both underpaid and paid irregularly. Many stole spare parts or basic equipment. This strategy later hurt Mobutu, as the FAZ did not have the training, equipment, or morale to successfully combat the invasion of Zaire in 1996 and the overthrow of the Mobutu regime.\n"
      ]
    },
    {
      "cell_type": "markdown",
      "metadata": {},
      "source": [
        "### Forces Armées de la République Démocratique du Congo\n",
        "\n",
        "<p align=\"right\">\n",
        "    <img src=\"images/design_image_3_FARDC.jpeg\" height=\"300\" width=\"168\" alt=\"Y\" style=\"float:left; margin-right:15px;\" />\n",
        "    <small>Source: <a href=\"https://www.google.com/imgres?q=memorial%20du%20soldat%20congolais&imgurl=https%3A%2F%2Flookaside.instagram.com%2Fseo%2Fgoogle_widget%2Fcrawler%2F%3Fmedia_id%3D2964950555224198570&imgrefurl=https%3A%2F%2Fwww.instagram.com%2Fvisitcongo_%2F&docid=Oj_1lHWvd_PM9M&tbnid=hLPk7c5_fSLSAM&vet=12ahUKEwiwzdXp1vqMAxXXGFkFHagVJUkQM3oFCIEBEAA..i&w=2160&h=3840&hcb=2&ved=2ahUKEwiwzdXp1vqMAxXXGFkFHagVJUkQM3oFCIEBEAA\" target=\"_blank\" rel=\"noopener noreferrer\">Instagram</a></small>\n",
        "</p>\n",
        "\n",
        "The final soldier depicted, and the only one depicted in action, is a member of the Forces Armées de la République Démocratique du Congo, or the Armed Forces of the Democratic Republic of the Congo (FARDC), which is the current army of the DRC. He is depicted crouched in a firing position because the FARDC has experienced the most conflict of the soldiers in Congolese history. \n",
        "\n",
        "The FARDC has engaged in both international and internal conflicts, with the Second Congo War breaking out between the DRC and Rwanda in 1998. This war is referred to as the deadliest in human history since World War II. More recently, the FARDC has fought the March 23 Movement (M23), a militant group vying for territory and resources in the eastern Congo, which emerged in the 1990s and experienced a resurgence in the 2020s. M23 is primarily backed by Rwanda, although Rwanda has denied allegations that it supports the group. \n",
        "\n",
        "The ongoing conflict with M23 has been devastating for civilians, and both the FARDC and M23, as well as other militant groups, have been accused of committing atrocities against civilians. The soldier depicted by this tier of the memorial is still actively engaged in serious conflict, and the ongoing conflict was cited as part of the motivation for the monument’s creation. It pays tribute to all soldiers in Congolese history, but the soldier on the highest pedestal represents the forces engaged in the ongoing conflict with M23. The two sides only recently agreed to a ceasefire."
      ]
    }
  ],
  "metadata": {
    "kernelspec": {
      "display_name": "Python 3 (ipykernel)",
      "language": "python",
      "name": "python3"
    }
  },
  "nbformat": 4,
  "nbformat_minor": 4
}
